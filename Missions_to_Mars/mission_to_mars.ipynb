{
 "cells": [
  {
   "cell_type": "code",
   "execution_count": 1,
   "id": "55a5c23b",
   "metadata": {},
   "outputs": [],
   "source": [
    "#!pip install webdriver_manager\n",
    "from splinter import Browser\n",
    "from bs4 import BeautifulSoup\n",
    "from webdriver_manager.chrome import ChromeDriverManager\n",
    "import pandas as pd\n",
    "import time\n"
   ]
  },
  {
   "cell_type": "code",
   "execution_count": 2,
   "id": "81a7f22a",
   "metadata": {},
   "outputs": [],
   "source": [
    "# Using splinter to initialize chrome browser driver\n",
    "def init_browser():\n",
    "    # @NOTE: Replace the path with your actual path to the chromedriver\n",
    "    executable_path = { \"executable_path\": ChromeDriverManager().install()}\n",
    "    return Browser(\"chrome\", **executable_path, headless=True)"
   ]
  },
  {
   "cell_type": "code",
   "execution_count": 3,
   "id": "b001998f",
   "metadata": {},
   "outputs": [
    {
     "name": "stderr",
     "output_type": "stream",
     "text": [
      "\n",
      "\n",
      "====== WebDriver manager ======\n",
      "Current google-chrome version is 94.0.4606\n",
      "Get LATEST driver version for 94.0.4606\n",
      "Driver [C:\\Users\\Costea\\.wdm\\drivers\\chromedriver\\win32\\94.0.4606.61\\chromedriver.exe] found in cache\n"
     ]
    },
    {
     "data": {
      "text/plain": [
       "{'title': \"NASA's Perseverance Rover Cameras Capture Mars Like Never Before\",\n",
       " 'description': 'Scientists tap into an array of imagers aboard the six-wheeled explorer to get a big picture of the Red Planet.'}"
      ]
     },
     "execution_count": 3,
     "metadata": {},
     "output_type": "execute_result"
    }
   ],
   "source": [
    "# NASA Mars News\n",
    "# Scrape the NASA Mars News Site and collect the latest News Title and Paragraph Text. \n",
    "# Assign the text to variables that you can reference later.\n",
    "# I am going to have this function return a list of news and title\n",
    "def nasa_mars_news():\n",
    "    browser = init_browser()\n",
    "    results_list = []\n",
    "\n",
    "    url = \"https://mars.nasa.gov/news/\"\n",
    "    browser.visit(url)\n",
    "\n",
    "    html = browser.html\n",
    "    soup = BeautifulSoup(html, \"html.parser\")\n",
    "     # take all the news and save them, at the end will return the latest one\n",
    "    results = soup.find_all(\"div\",class_=\"list_text\")\n",
    "    # Sometimes I would get results and  sometimes I would not,\n",
    "    # so I think I need to wait here a little bit, to have time to get the data\n",
    "    time.sleep(2)\n",
    "    for r in results:\n",
    "        try:\n",
    "            title = r.find(\"div\", class_=\"content_title\").text\n",
    "            description = r.find(\"div\", class_=\"article_teaser_body\").text\n",
    "            latest_news = {\n",
    "                \"title\": title,\n",
    "                \"description\": description\n",
    "            }\n",
    "            results_list.append(latest_news)\n",
    "        except AttributeError as error:\n",
    "            print(error)\n",
    "        browser.links.find_by_partial_text(\"Next\") \n",
    "    # I will try to return the latest news which is the first in my list\n",
    "    browser.quit()\n",
    "    return results_list[0]\n",
    "news = nasa_mars_news() \n",
    "news"
   ]
  },
  {
   "cell_type": "code",
   "execution_count": 4,
   "id": "6620a036",
   "metadata": {},
   "outputs": [
    {
     "name": "stderr",
     "output_type": "stream",
     "text": [
      "\n",
      "\n",
      "====== WebDriver manager ======\n",
      "Current google-chrome version is 94.0.4606\n",
      "Get LATEST driver version for 94.0.4606\n",
      "Driver [C:\\Users\\Costea\\.wdm\\drivers\\chromedriver\\win32\\94.0.4606.61\\chromedriver.exe] found in cache\n"
     ]
    },
    {
     "data": {
      "text/plain": [
       "'https://data-class-jpl-space.s3.amazonaws.com/JPL_Space/image/featured/mars2.jpg'"
      ]
     },
     "execution_count": 4,
     "metadata": {},
     "output_type": "execute_result"
    }
   ],
   "source": [
    "# PL Mars Space Images - Featured Image\n",
    "\n",
    "# Visit the url for JPL Featured Space Image here.\n",
    "\n",
    "# Use splinter to navigate the site and find the image url for the current \n",
    "# Featured Mars Image and assign the url string to a variable called featured_image_url.\n",
    "\n",
    "# Make sure to find the image url to the full size .jpg image.\n",
    "\n",
    "# Make sure to save a complete url string for this image.\n",
    " \n",
    "def mars_featured_image():\n",
    "    browser = init_browser()\n",
    "    image_url = \"\"\n",
    "\n",
    "    url = \"https://data-class-jpl-space.s3.amazonaws.com/JPL_Space/index.html\"\n",
    "    browser.visit(url)\n",
    "\n",
    "    html = browser.html\n",
    "    soup = BeautifulSoup(html, \"html.parser\")\n",
    "    try:\n",
    "        results = soup.find_all(\"img\",class_=\"headerimage fade-in\")\n",
    "        for r in results:\n",
    "            temp_url = r[\"src\"]\n",
    "            # put the base link and the image link together\n",
    "            # replace index.html with image link\n",
    "            image_url = url.replace(\"index.html\",temp_url)\n",
    "    except AttributeError as error:\n",
    "        print(error)\n",
    "    browser.quit()\n",
    "    return image_url\n",
    "mars_image = mars_featured_image()\n",
    "mars_image"
   ]
  },
  {
   "cell_type": "code",
   "execution_count": 5,
   "id": "1ba7b502",
   "metadata": {},
   "outputs": [
    {
     "data": {
      "text/plain": [
       "'<table border=\"1\" class=\"dataframe\">  <thead>    <tr style=\"text-align: right;\">      <th></th>      <th>Mars</th>    </tr>    <tr>      <th>Description</th>      <th></th>    </tr>  </thead>  <tbody>    <tr>      <th>Equatorial Diameter:</th>      <td>6,792 km</td>    </tr>    <tr>      <th>Polar Diameter:</th>      <td>6,752 km</td>    </tr>    <tr>      <th>Mass:</th>      <td>6.39 × 10^23 kg (0.11 Earths)</td>    </tr>    <tr>      <th>Moons:</th>      <td>2 (Phobos &amp; Deimos)</td>    </tr>    <tr>      <th>Orbit Distance:</th>      <td>227,943,824 km (1.38 AU)</td>    </tr>    <tr>      <th>Orbit Period:</th>      <td>687 days (1.9 years)</td>    </tr>    <tr>      <th>Surface Temperature:</th>      <td>-87 to -5 °C</td>    </tr>    <tr>      <th>First Record:</th>      <td>2nd millennium BC</td>    </tr>    <tr>      <th>Recorded By:</th>      <td>Egyptian astronomers</td>    </tr>  </tbody></table>'"
      ]
     },
     "execution_count": 5,
     "metadata": {},
     "output_type": "execute_result"
    }
   ],
   "source": [
    "# Mars Facts\n",
    "\n",
    "# Visit the Mars Facts webpage here and use Pandas to scrape the table containing\n",
    "# facts about the planet including Diameter, Mass, etc.\n",
    "\n",
    "# Use Pandas to convert the data to a HTML table string.\n",
    "\n",
    "url = \"https://space-facts.com/mars/\"\n",
    "facts_table = pd.read_html(url)\n",
    "table_df = facts_table[0]\n",
    "table_df.columns = [\"Description\",\"Mars\"]\n",
    "table_df = table_df.set_index([\"Description\"])\n",
    "html_table = table_df.to_html()\n",
    "html_table = html_table.replace(\"\\n\",\"\")\n",
    "html_table"
   ]
  },
  {
   "cell_type": "code",
   "execution_count": 6,
   "id": "8854063e",
   "metadata": {},
   "outputs": [
    {
     "name": "stderr",
     "output_type": "stream",
     "text": [
      "\n",
      "\n",
      "====== WebDriver manager ======\n",
      "Current google-chrome version is 94.0.4606\n",
      "Get LATEST driver version for 94.0.4606\n",
      "Driver [C:\\Users\\Costea\\.wdm\\drivers\\chromedriver\\win32\\94.0.4606.61\\chromedriver.exe] found in cache\n"
     ]
    },
    {
     "data": {
      "text/plain": [
       "[{'title': 'Cerberus Hemisphere Enhanced',\n",
       "  'img_url': 'https://astropedia.astrogeology.usgs.gov/download/Mars/Viking/cerberus_enhanced.tif/full.jpg'},\n",
       " {'title': 'Schiaparelli Hemisphere Enhanced',\n",
       "  'img_url': 'https://astropedia.astrogeology.usgs.gov/download/Mars/Viking/schiaparelli_enhanced.tif/full.jpg'},\n",
       " {'title': 'Syrtis Major Hemisphere Enhanced',\n",
       "  'img_url': 'https://astropedia.astrogeology.usgs.gov/download/Mars/Viking/syrtis_major_enhanced.tif/full.jpg'},\n",
       " {'title': 'Valles Marineris Hemisphere Enhanced',\n",
       "  'img_url': 'https://astropedia.astrogeology.usgs.gov/download/Mars/Viking/valles_marineris_enhanced.tif/full.jpg'}]"
      ]
     },
     "execution_count": 6,
     "metadata": {},
     "output_type": "execute_result"
    }
   ],
   "source": [
    "# Mars Hemispheres\n",
    "\n",
    "# Visit the USGS Astrogeology site here to obtain high resolution images for each of Mar’s hemispheres.\n",
    "\n",
    "# You will need to click each of the links to the hemispheres in order to find the image url to the full resolution image.\n",
    "\n",
    "# Save both the image url string for the full resolution hemisphere image,\n",
    "# and the Hemisphere title containing the hemisphere name. Use a Python dictionary to store the data\n",
    "#using the keys img_url and title.\n",
    "\n",
    "# Append the dictionary with the image url string and the hemisphere title to a list.\n",
    "#This list will contain one dictionary for each hemisphere.\n",
    "\n",
    "url = \"https://astrogeology.usgs.gov/search/results?q=hemisphere+enhanced&k1=target&v1=Mars\"\n",
    "url_cerberus = \"https://astrogeology.usgs.gov/search/map/Mars/Viking/cerberus_enhanced\"\n",
    "url_schiaparelli = \"https://astrogeology.usgs.gov/search/map/Mars/Viking/schiaparelli_enhanced\"\n",
    "url_syrtis = \"https://astrogeology.usgs.gov/search/map/Mars/Viking/syrtis_major_enhanced\"\n",
    "url_valles = \"https://astrogeology.usgs.gov/search/map/Mars/Viking/valles_marineris_enhanced\"\n",
    "\n",
    "# Place hemisphere urls into a list to be easy to loop through them\n",
    "hem_list = [url_cerberus, url_schiaparelli, url_syrtis, url_valles]\n",
    "\n",
    "# set up the splinter\n",
    "browser = init_browser()\n",
    "hemi_img_list = []\n",
    "\n",
    "# Go through all hemisphere urls\n",
    "# and take the urls for images\n",
    "for u in hem_list:\n",
    "    browser.visit(u)\n",
    "    html = browser.html\n",
    "    soup = BeautifulSoup(html, \"html.parser\")\n",
    "    try:\n",
    "       # results = soup.find_all(\"div\", class_=\"wide-image-wrapper\")\n",
    "        results = soup.find_all(\"div\", class_=\"wide-image-wrapper\")\n",
    "        for r in results:\n",
    "            link = r.find(\"ul\").a[\"href\"]\n",
    "            hemi_img_list.append(link)\n",
    "    except AttributeError as error:\n",
    "        print(error)\n",
    "\n",
    "# go to the base link , find the links pointing to the hemisphere images and take their description\n",
    "descr_list = []\n",
    "browser.visit(url)\n",
    "html = browser.html\n",
    "base_soup = BeautifulSoup(html, \"html.parser\")\n",
    "try:\n",
    "    results = base_soup.find_all(\"a\", class_=\"itemLink product-item\")\n",
    "    for r in results:\n",
    "        img = r.h3\n",
    "        if img:\n",
    "            img = img.text.strip(\"<h3>\").strip(\"</h3>\")\n",
    "            descr_list.append(img)\n",
    "except AttributeError as error:\n",
    "    print(error)\n",
    "    \n",
    "# place the dictionares in this list    \n",
    "hemisphere_image_urls = []\n",
    "for d, u in zip(descr_list, hemi_img_list):\n",
    "    item_dict = {\"title\": d, \"img_url\": u}\n",
    "    hemisphere_image_urls.append(item_dict)\n",
    "hemisphere_image_urls\n"
   ]
  },
  {
   "cell_type": "code",
   "execution_count": null,
   "id": "0622397e",
   "metadata": {},
   "outputs": [],
   "source": []
  }
 ],
 "metadata": {
  "kernelspec": {
   "display_name": "Python 3",
   "language": "python",
   "name": "python3"
  },
  "language_info": {
   "codemirror_mode": {
    "name": "ipython",
    "version": 3
   },
   "file_extension": ".py",
   "mimetype": "text/x-python",
   "name": "python",
   "nbconvert_exporter": "python",
   "pygments_lexer": "ipython3",
   "version": "3.8.8"
  }
 },
 "nbformat": 4,
 "nbformat_minor": 5
}
